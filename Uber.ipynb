{
 "cells": [
  {
   "cell_type": "code",
   "execution_count": 796,
   "metadata": {},
   "outputs": [],
   "source": [
    "# Import necessary libraries\n",
    "import pandas as pd\n",
    "import numpy as np\n",
    "from sklearn.preprocessing import LabelEncoder, StandardScaler\n",
    "import geopy.distance\n",
    "import haversine as hs   \n",
    "from haversine import Unit\n",
    "import matplotlib.pyplot as plt"
   ]
  },
  {
   "cell_type": "code",
   "execution_count": 797,
   "metadata": {},
   "outputs": [],
   "source": [
    "# Load the dataset\n",
    "df = pd.read_csv('Uber.csv')\n"
   ]
  },
  {
   "cell_type": "code",
   "execution_count": 798,
   "metadata": {},
   "outputs": [],
   "source": [
    "#Remove unnecessary column\n",
    "df.drop(['key','Unnamed: 0'], axis=1, inplace=True)\n",
    "df.dropna(axis=0,inplace=True)"
   ]
  },
  {
   "cell_type": "code",
   "execution_count": 799,
   "metadata": {},
   "outputs": [
    {
     "name": "stdout",
     "output_type": "stream",
     "text": [
      "\n",
      "Missing values in the dataset:\n",
      "fare_amount          0\n",
      "pickup_datetime      0\n",
      "pickup_longitude     0\n",
      "pickup_latitude      0\n",
      "dropoff_longitude    0\n",
      "dropoff_latitude     0\n",
      "passenger_count      0\n",
      "dtype: int64\n"
     ]
    }
   ],
   "source": [
    "# Check for missing values\n",
    "print(\"\\nMissing values in the dataset:\")\n",
    "print(df.isnull().sum())"
   ]
  },
  {
   "cell_type": "code",
   "execution_count": 800,
   "metadata": {},
   "outputs": [],
   "source": [
    "condition = df[\n",
    "    (df['pickup_longitude'] < -180) | (df['pickup_longitude'] > 180) |\n",
    "    (df['pickup_latitude'] < -90) | (df['pickup_latitude'] > 90) |\n",
    "    (df['dropoff_longitude'] < -180) | (df['dropoff_longitude'] > 180) |\n",
    "    (df['dropoff_latitude'] < -90) | (df['dropoff_latitude'] > 90)\n",
    "].index\n",
    "df.drop(condition, inplace=True)"
   ]
  },
  {
   "cell_type": "code",
   "execution_count": 801,
   "metadata": {},
   "outputs": [
    {
     "name": "stdout",
     "output_type": "stream",
     "text": [
      "First few rows of the dataset:\n",
      "   fare_amount          pickup_datetime  pickup_longitude  pickup_latitude  \\\n",
      "0          7.5  2015-05-07 19:52:06 UTC        -73.999817        40.738354   \n",
      "1          7.7  2009-07-17 20:04:56 UTC        -73.994355        40.728225   \n",
      "2         12.9  2009-08-24 21:45:00 UTC        -74.005043        40.740770   \n",
      "3          5.3  2009-06-26 08:22:21 UTC        -73.976124        40.790844   \n",
      "4         16.0  2014-08-28 17:47:00 UTC        -73.925023        40.744085   \n",
      "\n",
      "   dropoff_longitude  dropoff_latitude  passenger_count  \n",
      "0         -73.999512         40.723217                1  \n",
      "1         -73.994710         40.750325                1  \n",
      "2         -73.962565         40.772647                1  \n",
      "3         -73.965316         40.803349                3  \n",
      "4         -73.973082         40.761247                5  \n",
      "\n",
      "Columns of the dataset:\n",
      "Index(['fare_amount', 'pickup_datetime', 'pickup_longitude', 'pickup_latitude',\n",
      "       'dropoff_longitude', 'dropoff_latitude', 'passenger_count'],\n",
      "      dtype='object')\n"
     ]
    }
   ],
   "source": [
    "# Display the first few rows of the dataset\n",
    "print(\"First few rows of the dataset:\")\n",
    "print(df.head())\n",
    "\n",
    "# Display the columns of the dataset\n",
    "print(\"\\nColumns of the dataset:\")\n",
    "print(df.columns)"
   ]
  },
  {
   "cell_type": "code",
   "execution_count": 802,
   "metadata": {},
   "outputs": [],
   "source": [
    "latitude, longitude = [], []\n",
    "\n",
    "longitude.append(df[\"pickup_longitude\"].tolist())\n",
    "longitude.append(df[\"dropoff_longitude\"].tolist())\n",
    "latitude.append(df[\"pickup_latitude\"].tolist())\n",
    "latitude.append(df[\"dropoff_latitude\"].tolist())\n",
    "\n",
    "#Find the distance in meters\n",
    "distance = [hs.haversine((latitude[0][i], longitude[0][i]), (latitude[1][i], longitude[1][i]), unit=Unit.METERS) for i in range(len(longitude[0]))]\n"
   ]
  },
  {
   "cell_type": "code",
   "execution_count": 803,
   "metadata": {},
   "outputs": [],
   "source": [
    "from sklearn.model_selection import train_test_split\n",
    "from sklearn.linear_model import LinearRegression\n",
    "from sklearn.metrics import classification_report, accuracy_score, precision_score, recall_score, f1_score"
   ]
  },
  {
   "cell_type": "code",
   "execution_count": 804,
   "metadata": {},
   "outputs": [],
   "source": [
    "df['pickup_datetime'] = pd.to_datetime(df['pickup_datetime'])\n",
    "\n",
    "df['pickup_day'] = df['pickup_datetime'].dt.day\n",
    "df['pickup_month'] = df['pickup_datetime'].dt.month\n",
    "df['pickup_hour'] = df['pickup_datetime'].dt.hour\n",
    "df['pickup_minute'] = df['pickup_datetime'].dt.minute"
   ]
  },
  {
   "cell_type": "code",
   "execution_count": 805,
   "metadata": {},
   "outputs": [],
   "source": [
    "df.drop([\"pickup_datetime\"], axis=1, inplace=True)\n",
    "distance = pd.DataFrame({\"distance\": distance})\n",
    "day = pd.DataFrame({\"day\": df['pickup_day']})\n",
    "month = pd.DataFrame({\"month\": df['pickup_month']})\n",
    "hour = pd.DataFrame({\"hour\": df['pickup_hour']})\n",
    "minute = pd.DataFrame({\"minute\": df['pickup_minute']})"
   ]
  },
  {
   "cell_type": "code",
   "execution_count": 806,
   "metadata": {},
   "outputs": [
    {
     "name": "stdout",
     "output_type": "stream",
     "text": [
      "   distance   day  month  hour  minute\n",
      "0  1.683325   7.0    5.0  19.0    52.0\n",
      "1  2.457593  17.0    7.0  20.0     4.0\n",
      "2  5.036384  24.0    8.0  21.0    45.0\n",
      "3  1.661686  26.0    6.0   8.0    22.0\n",
      "4  4.475456  28.0    8.0  17.0    47.0\n"
     ]
    }
   ],
   "source": [
    "columns_extra = [\"distance\", \"day\", \"month\", \"hour\", \"minute\"]\n",
    "df2 = pd.concat([distance, day, month, hour, minute], axis=1, ignore_index=True)\n",
    "df2.columns = columns_extra\n",
    "print(df2.head())"
   ]
  },
  {
   "cell_type": "code",
   "execution_count": 807,
   "metadata": {},
   "outputs": [
    {
     "name": "stdout",
     "output_type": "stream",
     "text": [
      "   fare_amount  pickup_longitude  pickup_latitude  dropoff_longitude  \\\n",
      "0          7.5        -73.999817        40.738354         -73.999512   \n",
      "1          7.7        -73.994355        40.728225         -73.994710   \n",
      "2         12.9        -74.005043        40.740770         -73.962565   \n",
      "3          5.3        -73.976124        40.790844         -73.965316   \n",
      "4         16.0        -73.925023        40.744085         -73.973082   \n",
      "\n",
      "   dropoff_latitude  passenger_count  pickup_day  pickup_month  pickup_hour  \\\n",
      "0         40.723217              1.0         7.0           5.0         19.0   \n",
      "1         40.750325              1.0        17.0           7.0         20.0   \n",
      "2         40.772647              1.0        24.0           8.0         21.0   \n",
      "3         40.803349              3.0        26.0           6.0          8.0   \n",
      "4         40.761247              5.0        28.0           8.0         17.0   \n",
      "\n",
      "   pickup_minute  distance   day  month  hour  minute  \n",
      "0           52.0  1.683325   7.0    5.0  19.0    52.0  \n",
      "1            4.0  2.457593  17.0    7.0  20.0     4.0  \n",
      "2           45.0  5.036384  24.0    8.0  21.0    45.0  \n",
      "3           22.0  1.661686  26.0    6.0   8.0    22.0  \n",
      "4           47.0  4.475456  28.0    8.0  17.0    47.0  \n"
     ]
    }
   ],
   "source": [
    "columns = df.columns\n",
    "df = df.reset_index(drop=True)\n",
    "df.columns = columns\n",
    "dataframe = pd.concat([df, df2], axis=1)\n",
    "print(dataframe.head())"
   ]
  },
  {
   "cell_type": "code",
   "execution_count": 808,
   "metadata": {},
   "outputs": [],
   "source": [
    "#create x and y sets\n",
    "Y = df[\"fare_amount\"]\n",
    "X = df.drop([\"fare_amount\"], axis=1)\n",
    "\n",
    "x_train, x_test, y_train, y_test = train_test_split(X, Y, test_size=0.2, random_state=42)"
   ]
  },
  {
   "cell_type": "code",
   "execution_count": 809,
   "metadata": {},
   "outputs": [
    {
     "name": "stdout",
     "output_type": "stream",
     "text": [
      "Mean Squared Error: 91.64726651311395\n",
      "Mean Absolute Error: 5.9938316093351105\n",
      "R-squared: 0.0012664415953705932\n",
      "91.64726651311395   9.573257883976277\n"
     ]
    }
   ],
   "source": [
    "from sklearn.metrics import mean_squared_error, mean_absolute_error, r2_score\n",
    "\n",
    "\n",
    "# Initialize and train the Linear Regression model\n",
    "lr_regressor = LinearRegression()\n",
    "lr_regressor.fit(x_train, y_train)\n",
    "\n",
    "# Predict fare amounts for the test set\n",
    "y_pred = lr_regressor.predict(x_test)\n",
    "\n",
    "# Calculate regression metrics\n",
    "mse = mean_squared_error(y_test, y_pred)\n",
    "mae = mean_absolute_error(y_test, y_pred)\n",
    "r2 = r2_score(y_test, y_pred)\n",
    "rmse = np.sqrt(mse)\n",
    "# Print regression metrics\n",
    "print(\"Mean Squared Error:\", mse)\n",
    "print(\"Mean Absolute Error:\", mae)\n",
    "print(\"R-squared:\", r2)\n",
    "print(mse, \" \", rmse)\n"
   ]
  }
 ],
 "metadata": {
  "kernelspec": {
   "display_name": "Python 3",
   "language": "python",
   "name": "python3"
  },
  "language_info": {
   "codemirror_mode": {
    "name": "ipython",
    "version": 3
   },
   "file_extension": ".py",
   "mimetype": "text/x-python",
   "name": "python",
   "nbconvert_exporter": "python",
   "pygments_lexer": "ipython3",
   "version": "3.11.1"
  }
 },
 "nbformat": 4,
 "nbformat_minor": 2
}
