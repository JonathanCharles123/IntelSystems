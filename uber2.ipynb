{
  "cells": [
    {
      "cell_type": "code",
      "execution_count": 37,
      "metadata": {
        "id": "eUGlzE3o-xMh",
        "outputId": "201f173a-cc63-43ae-d6d7-cea66c7e781b",
        "colab": {
          "base_uri": "https://localhost:8080/"
        }
      },
      "outputs": [
        {
          "output_type": "stream",
          "name": "stdout",
          "text": [
            "Requirement already satisfied: haversine in /usr/local/lib/python3.10/dist-packages (2.8.1)\n"
          ]
        }
      ],
      "source": [
        "# Install haversine if required\n",
        "!pip install haversine\n",
        "\n",
        "# Import necessary libraries\n",
        "import pandas as pd\n",
        "import numpy as np\n",
        "from sklearn.preprocessing import LabelEncoder, StandardScaler\n",
        "import geopy.distance\n",
        "import haversine as hs\n",
        "from haversine import Unit\n",
        "import matplotlib.pyplot as plt\n",
        "from sklearn.model_selection import train_test_split\n",
        "from sklearn.linear_model import LinearRegression\n",
        "from sklearn.metrics import classification_report, accuracy_score, precision_score, recall_score, f1_score\n",
        "from sklearn.metrics import mean_squared_error, mean_absolute_error, r2_score"
      ]
    },
    {
      "cell_type": "code",
      "execution_count": 38,
      "metadata": {
        "id": "RjDDQm3E-xMi"
      },
      "outputs": [],
      "source": [
        "# Load dataset\n",
        "df = pd.read_csv('uber.csv')\n"
      ]
    },
    {
      "cell_type": "code",
      "execution_count": 39,
      "metadata": {
        "id": "wREWUOEQ-xMj"
      },
      "outputs": [],
      "source": [
        "# Remove unnecessary columns\n",
        "df.drop(['key','Unnamed: 0'], axis=1, inplace=True)\n",
        "df.dropna(axis=0,inplace=True)"
      ]
    },
    {
      "cell_type": "code",
      "execution_count": 40,
      "metadata": {
        "id": "rNobi5dn-xMj",
        "outputId": "caccff2d-8135-40b4-c98d-38445cf8f425",
        "colab": {
          "base_uri": "https://localhost:8080/"
        }
      },
      "outputs": [
        {
          "output_type": "stream",
          "name": "stdout",
          "text": [
            "\n",
            "Missing values in the dataset:\n",
            "fare_amount          0\n",
            "pickup_datetime      0\n",
            "pickup_longitude     0\n",
            "pickup_latitude      0\n",
            "dropoff_longitude    0\n",
            "dropoff_latitude     0\n",
            "passenger_count      0\n",
            "dtype: int64\n"
          ]
        }
      ],
      "source": [
        "# Check for missing values\n",
        "print(\"\\nMissing values in the dataset:\")\n",
        "print(df.isnull().sum())\n"
      ]
    },
    {
      "cell_type": "code",
      "execution_count": 41,
      "metadata": {
        "id": "7zcPwSw_-xMj"
      },
      "outputs": [],
      "source": [
        "df.drop(df[df['fare_amount'].values <= 0].index  , inplace= True)\n"
      ]
    },
    {
      "cell_type": "code",
      "execution_count": 42,
      "metadata": {
        "id": "sK_Ymggf-xMk",
        "outputId": "7f390d59-0c2f-4135-b7a6-e4cc3075a652",
        "colab": {
          "base_uri": "https://localhost:8080/"
        }
      },
      "outputs": [
        {
          "output_type": "stream",
          "name": "stdout",
          "text": [
            "First few rows of the dataset:\n",
            "   fare_amount          pickup_datetime  pickup_longitude  pickup_latitude  \\\n",
            "0          7.5  2015-05-07 19:52:06 UTC        -73.999817        40.738354   \n",
            "1          7.7  2009-07-17 20:04:56 UTC        -73.994355        40.728225   \n",
            "2         12.9  2009-08-24 21:45:00 UTC        -74.005043        40.740770   \n",
            "3          5.3  2009-06-26 08:22:21 UTC        -73.976124        40.790844   \n",
            "4         16.0  2014-08-28 17:47:00 UTC        -73.925023        40.744085   \n",
            "\n",
            "   dropoff_longitude  dropoff_latitude  passenger_count  \n",
            "0         -73.999512         40.723217                1  \n",
            "1         -73.994710         40.750325                1  \n",
            "2         -73.962565         40.772647                1  \n",
            "3         -73.965316         40.803349                3  \n",
            "4         -73.973082         40.761247                5  \n",
            "\r\n",
            "\n",
            "Fields of the dataset:\n",
            "Index(['fare_amount', 'pickup_datetime', 'pickup_longitude', 'pickup_latitude',\n",
            "       'dropoff_longitude', 'dropoff_latitude', 'passenger_count'],\n",
            "      dtype='object')\n"
          ]
        }
      ],
      "source": [
        "# Display the first few rows of the dataset\n",
        "print(\"First few rows of the dataset:\")\n",
        "print(df.head())\n",
        "\n",
        "print('\\r\\n')\n",
        "\n",
        "# Display the columns of the dataset\n",
        "print(\"Fields of the dataset:\")\n",
        "print(df.columns)"
      ]
    },
    {
      "cell_type": "code",
      "execution_count": 43,
      "metadata": {
        "id": "sOr1-ypl-xMk"
      },
      "outputs": [],
      "source": [
        "# Convert 'pickup_datetime' to a datetime data type\n",
        "df['pickup_datetime'] = pd.to_datetime(df['pickup_datetime'])\n",
        "\n",
        "# Extract the day of the week (0 = Monday, 6 = Sunday)\n",
        "df['day_of_week'] = df['pickup_datetime'].dt.dayofweek\n"
      ]
    },
    {
      "cell_type": "code",
      "execution_count": 44,
      "metadata": {
        "id": "wEUJ7C6l-xMk"
      },
      "outputs": [],
      "source": [
        "df.drop('pickup_datetime', axis=1, inplace=True)"
      ]
    },
    {
      "cell_type": "code",
      "execution_count": 45,
      "metadata": {
        "id": "DnR8HM3y-xMk"
      },
      "outputs": [],
      "source": [
        "#Drop the rows where the latitude and longitude are not in range\n",
        "condition = df[\n",
        "    (df['pickup_longitude'] < -180) | (df['pickup_longitude'] > 180) |\n",
        "    (df['pickup_latitude'] < -90) | (df['pickup_latitude'] > 90) |\n",
        "    (df['dropoff_longitude'] < -180) | (df['dropoff_longitude'] > 180) |\n",
        "    (df['dropoff_latitude'] < -90) | (df['dropoff_latitude'] > 90)\n",
        "].index\n",
        "df.drop(condition, inplace=True)"
      ]
    },
    {
      "cell_type": "code",
      "source": [
        "#Drop the rows where the fare amount is <=0\n",
        "condition = df[(df.fare_amount<=0.00)].index\n",
        "df.drop(condition, inplace=True)"
      ],
      "metadata": {
        "id": "cDeAjidznsAh"
      },
      "execution_count": 48,
      "outputs": []
    },
    {
      "cell_type": "code",
      "source": [
        "#Calculate the distance between pickup and dropoff\n",
        "longitude, latitude = [], []\n",
        "\n",
        "longitude.append(df[\"pickup_longitude\"].tolist())\n",
        "longitude.append(df[\"dropoff_longitude\"].tolist())\n",
        "latitude.append(df[\"pickup_latitude\"].tolist())\n",
        "latitude.append(df[\"dropoff_latitude\"].tolist())\n",
        "\n",
        "#Find the distance in meters\n",
        "distance = [hs.haversine((latitude[1][i], longitude[1][i]), (latitude[0][i], longitude[0][i]), unit=Unit.METERS)\n",
        "              for i in range(len(longitude[0]))]\n",
        "\n",
        "#Append the new distance column to the dataset\n",
        "df['distance'] = distance"
      ],
      "metadata": {
        "id": "JXCdcBdQoXfU"
      },
      "execution_count": 77,
      "outputs": []
    },
    {
      "cell_type": "code",
      "execution_count": 34,
      "metadata": {
        "id": "eRg1IbgJ-xMk"
      },
      "outputs": [],
      "source": [
        "# # Calculate the distance between pickup and dropoff using geopy library\n",
        "# from geopy.distance import great_circle\n",
        "\n",
        "# def distance_km(x):\n",
        "#     pickup = (x['pickup_latitude'], x['pickup_longitude'])\n",
        "#     dropoff = (x['dropoff_latitude'], x['dropoff_longitude'])\n",
        "#     return great_circle(pickup, dropoff).km"
      ]
    },
    {
      "cell_type": "code",
      "execution_count": 20,
      "metadata": {
        "id": "8VrZV26p-xMk"
      },
      "outputs": [],
      "source": [
        "# df['distance_km'] = df.apply(lambda x: distance_km(x), axis=1)\n",
        "# df.drop(['pickup_longitude', 'pickup_latitude','dropoff_longitude', 'dropoff_latitude'] , inplace=True , axis= 1)"
      ]
    },
    {
      "cell_type": "code",
      "execution_count": 78,
      "metadata": {
        "id": "Z-xI68xV-xMk",
        "outputId": "09e056c0-bdb4-40b3-b718-b06eb010299d",
        "colab": {
          "base_uri": "https://localhost:8080/",
          "height": 206
        }
      },
      "outputs": [
        {
          "output_type": "execute_result",
          "data": {
            "text/plain": [
              "   fare_amount  pickup_longitude  pickup_latitude  dropoff_longitude  \\\n",
              "0          7.5        -73.999817        40.738354         -73.999512   \n",
              "1          7.7        -73.994355        40.728225         -73.994710   \n",
              "2         12.9        -74.005043        40.740770         -73.962565   \n",
              "3          5.3        -73.976124        40.790844         -73.965316   \n",
              "4         16.0        -73.925023        40.744085         -73.973082   \n",
              "\n",
              "   dropoff_latitude  passenger_count  day_of_week     distance  \n",
              "0         40.723217                1            3  1683.325070  \n",
              "1         40.750325                1            4  2457.593278  \n",
              "2         40.772647                1            0  5036.384147  \n",
              "3         40.803349                3            4  1661.685754  \n",
              "4         40.761247                5            3  4475.456145  "
            ],
            "text/html": [
              "\n",
              "  <div id=\"df-3ce730f9-90f9-4981-89e4-d77ddd314079\" class=\"colab-df-container\">\n",
              "    <div>\n",
              "<style scoped>\n",
              "    .dataframe tbody tr th:only-of-type {\n",
              "        vertical-align: middle;\n",
              "    }\n",
              "\n",
              "    .dataframe tbody tr th {\n",
              "        vertical-align: top;\n",
              "    }\n",
              "\n",
              "    .dataframe thead th {\n",
              "        text-align: right;\n",
              "    }\n",
              "</style>\n",
              "<table border=\"1\" class=\"dataframe\">\n",
              "  <thead>\n",
              "    <tr style=\"text-align: right;\">\n",
              "      <th></th>\n",
              "      <th>fare_amount</th>\n",
              "      <th>pickup_longitude</th>\n",
              "      <th>pickup_latitude</th>\n",
              "      <th>dropoff_longitude</th>\n",
              "      <th>dropoff_latitude</th>\n",
              "      <th>passenger_count</th>\n",
              "      <th>day_of_week</th>\n",
              "      <th>distance</th>\n",
              "    </tr>\n",
              "  </thead>\n",
              "  <tbody>\n",
              "    <tr>\n",
              "      <th>0</th>\n",
              "      <td>7.5</td>\n",
              "      <td>-73.999817</td>\n",
              "      <td>40.738354</td>\n",
              "      <td>-73.999512</td>\n",
              "      <td>40.723217</td>\n",
              "      <td>1</td>\n",
              "      <td>3</td>\n",
              "      <td>1683.325070</td>\n",
              "    </tr>\n",
              "    <tr>\n",
              "      <th>1</th>\n",
              "      <td>7.7</td>\n",
              "      <td>-73.994355</td>\n",
              "      <td>40.728225</td>\n",
              "      <td>-73.994710</td>\n",
              "      <td>40.750325</td>\n",
              "      <td>1</td>\n",
              "      <td>4</td>\n",
              "      <td>2457.593278</td>\n",
              "    </tr>\n",
              "    <tr>\n",
              "      <th>2</th>\n",
              "      <td>12.9</td>\n",
              "      <td>-74.005043</td>\n",
              "      <td>40.740770</td>\n",
              "      <td>-73.962565</td>\n",
              "      <td>40.772647</td>\n",
              "      <td>1</td>\n",
              "      <td>0</td>\n",
              "      <td>5036.384147</td>\n",
              "    </tr>\n",
              "    <tr>\n",
              "      <th>3</th>\n",
              "      <td>5.3</td>\n",
              "      <td>-73.976124</td>\n",
              "      <td>40.790844</td>\n",
              "      <td>-73.965316</td>\n",
              "      <td>40.803349</td>\n",
              "      <td>3</td>\n",
              "      <td>4</td>\n",
              "      <td>1661.685754</td>\n",
              "    </tr>\n",
              "    <tr>\n",
              "      <th>4</th>\n",
              "      <td>16.0</td>\n",
              "      <td>-73.925023</td>\n",
              "      <td>40.744085</td>\n",
              "      <td>-73.973082</td>\n",
              "      <td>40.761247</td>\n",
              "      <td>5</td>\n",
              "      <td>3</td>\n",
              "      <td>4475.456145</td>\n",
              "    </tr>\n",
              "  </tbody>\n",
              "</table>\n",
              "</div>\n",
              "    <div class=\"colab-df-buttons\">\n",
              "\n",
              "  <div class=\"colab-df-container\">\n",
              "    <button class=\"colab-df-convert\" onclick=\"convertToInteractive('df-3ce730f9-90f9-4981-89e4-d77ddd314079')\"\n",
              "            title=\"Convert this dataframe to an interactive table.\"\n",
              "            style=\"display:none;\">\n",
              "\n",
              "  <svg xmlns=\"http://www.w3.org/2000/svg\" height=\"24px\" viewBox=\"0 -960 960 960\">\n",
              "    <path d=\"M120-120v-720h720v720H120Zm60-500h600v-160H180v160Zm220 220h160v-160H400v160Zm0 220h160v-160H400v160ZM180-400h160v-160H180v160Zm440 0h160v-160H620v160ZM180-180h160v-160H180v160Zm440 0h160v-160H620v160Z\"/>\n",
              "  </svg>\n",
              "    </button>\n",
              "\n",
              "  <style>\n",
              "    .colab-df-container {\n",
              "      display:flex;\n",
              "      gap: 12px;\n",
              "    }\n",
              "\n",
              "    .colab-df-convert {\n",
              "      background-color: #E8F0FE;\n",
              "      border: none;\n",
              "      border-radius: 50%;\n",
              "      cursor: pointer;\n",
              "      display: none;\n",
              "      fill: #1967D2;\n",
              "      height: 32px;\n",
              "      padding: 0 0 0 0;\n",
              "      width: 32px;\n",
              "    }\n",
              "\n",
              "    .colab-df-convert:hover {\n",
              "      background-color: #E2EBFA;\n",
              "      box-shadow: 0px 1px 2px rgba(60, 64, 67, 0.3), 0px 1px 3px 1px rgba(60, 64, 67, 0.15);\n",
              "      fill: #174EA6;\n",
              "    }\n",
              "\n",
              "    .colab-df-buttons div {\n",
              "      margin-bottom: 4px;\n",
              "    }\n",
              "\n",
              "    [theme=dark] .colab-df-convert {\n",
              "      background-color: #3B4455;\n",
              "      fill: #D2E3FC;\n",
              "    }\n",
              "\n",
              "    [theme=dark] .colab-df-convert:hover {\n",
              "      background-color: #434B5C;\n",
              "      box-shadow: 0px 1px 3px 1px rgba(0, 0, 0, 0.15);\n",
              "      filter: drop-shadow(0px 1px 2px rgba(0, 0, 0, 0.3));\n",
              "      fill: #FFFFFF;\n",
              "    }\n",
              "  </style>\n",
              "\n",
              "    <script>\n",
              "      const buttonEl =\n",
              "        document.querySelector('#df-3ce730f9-90f9-4981-89e4-d77ddd314079 button.colab-df-convert');\n",
              "      buttonEl.style.display =\n",
              "        google.colab.kernel.accessAllowed ? 'block' : 'none';\n",
              "\n",
              "      async function convertToInteractive(key) {\n",
              "        const element = document.querySelector('#df-3ce730f9-90f9-4981-89e4-d77ddd314079');\n",
              "        const dataTable =\n",
              "          await google.colab.kernel.invokeFunction('convertToInteractive',\n",
              "                                                    [key], {});\n",
              "        if (!dataTable) return;\n",
              "\n",
              "        const docLinkHtml = 'Like what you see? Visit the ' +\n",
              "          '<a target=\"_blank\" href=https://colab.research.google.com/notebooks/data_table.ipynb>data table notebook</a>'\n",
              "          + ' to learn more about interactive tables.';\n",
              "        element.innerHTML = '';\n",
              "        dataTable['output_type'] = 'display_data';\n",
              "        await google.colab.output.renderOutput(dataTable, element);\n",
              "        const docLink = document.createElement('div');\n",
              "        docLink.innerHTML = docLinkHtml;\n",
              "        element.appendChild(docLink);\n",
              "      }\n",
              "    </script>\n",
              "  </div>\n",
              "\n",
              "\n",
              "<div id=\"df-91d483d9-c5c7-4025-9935-5fca2d63e80e\">\n",
              "  <button class=\"colab-df-quickchart\" onclick=\"quickchart('df-91d483d9-c5c7-4025-9935-5fca2d63e80e')\"\n",
              "            title=\"Suggest charts\"\n",
              "            style=\"display:none;\">\n",
              "\n",
              "<svg xmlns=\"http://www.w3.org/2000/svg\" height=\"24px\"viewBox=\"0 0 24 24\"\n",
              "     width=\"24px\">\n",
              "    <g>\n",
              "        <path d=\"M19 3H5c-1.1 0-2 .9-2 2v14c0 1.1.9 2 2 2h14c1.1 0 2-.9 2-2V5c0-1.1-.9-2-2-2zM9 17H7v-7h2v7zm4 0h-2V7h2v10zm4 0h-2v-4h2v4z\"/>\n",
              "    </g>\n",
              "</svg>\n",
              "  </button>\n",
              "\n",
              "<style>\n",
              "  .colab-df-quickchart {\n",
              "      --bg-color: #E8F0FE;\n",
              "      --fill-color: #1967D2;\n",
              "      --hover-bg-color: #E2EBFA;\n",
              "      --hover-fill-color: #174EA6;\n",
              "      --disabled-fill-color: #AAA;\n",
              "      --disabled-bg-color: #DDD;\n",
              "  }\n",
              "\n",
              "  [theme=dark] .colab-df-quickchart {\n",
              "      --bg-color: #3B4455;\n",
              "      --fill-color: #D2E3FC;\n",
              "      --hover-bg-color: #434B5C;\n",
              "      --hover-fill-color: #FFFFFF;\n",
              "      --disabled-bg-color: #3B4455;\n",
              "      --disabled-fill-color: #666;\n",
              "  }\n",
              "\n",
              "  .colab-df-quickchart {\n",
              "    background-color: var(--bg-color);\n",
              "    border: none;\n",
              "    border-radius: 50%;\n",
              "    cursor: pointer;\n",
              "    display: none;\n",
              "    fill: var(--fill-color);\n",
              "    height: 32px;\n",
              "    padding: 0;\n",
              "    width: 32px;\n",
              "  }\n",
              "\n",
              "  .colab-df-quickchart:hover {\n",
              "    background-color: var(--hover-bg-color);\n",
              "    box-shadow: 0 1px 2px rgba(60, 64, 67, 0.3), 0 1px 3px 1px rgba(60, 64, 67, 0.15);\n",
              "    fill: var(--button-hover-fill-color);\n",
              "  }\n",
              "\n",
              "  .colab-df-quickchart-complete:disabled,\n",
              "  .colab-df-quickchart-complete:disabled:hover {\n",
              "    background-color: var(--disabled-bg-color);\n",
              "    fill: var(--disabled-fill-color);\n",
              "    box-shadow: none;\n",
              "  }\n",
              "\n",
              "  .colab-df-spinner {\n",
              "    border: 2px solid var(--fill-color);\n",
              "    border-color: transparent;\n",
              "    border-bottom-color: var(--fill-color);\n",
              "    animation:\n",
              "      spin 1s steps(1) infinite;\n",
              "  }\n",
              "\n",
              "  @keyframes spin {\n",
              "    0% {\n",
              "      border-color: transparent;\n",
              "      border-bottom-color: var(--fill-color);\n",
              "      border-left-color: var(--fill-color);\n",
              "    }\n",
              "    20% {\n",
              "      border-color: transparent;\n",
              "      border-left-color: var(--fill-color);\n",
              "      border-top-color: var(--fill-color);\n",
              "    }\n",
              "    30% {\n",
              "      border-color: transparent;\n",
              "      border-left-color: var(--fill-color);\n",
              "      border-top-color: var(--fill-color);\n",
              "      border-right-color: var(--fill-color);\n",
              "    }\n",
              "    40% {\n",
              "      border-color: transparent;\n",
              "      border-right-color: var(--fill-color);\n",
              "      border-top-color: var(--fill-color);\n",
              "    }\n",
              "    60% {\n",
              "      border-color: transparent;\n",
              "      border-right-color: var(--fill-color);\n",
              "    }\n",
              "    80% {\n",
              "      border-color: transparent;\n",
              "      border-right-color: var(--fill-color);\n",
              "      border-bottom-color: var(--fill-color);\n",
              "    }\n",
              "    90% {\n",
              "      border-color: transparent;\n",
              "      border-bottom-color: var(--fill-color);\n",
              "    }\n",
              "  }\n",
              "</style>\n",
              "\n",
              "  <script>\n",
              "    async function quickchart(key) {\n",
              "      const quickchartButtonEl =\n",
              "        document.querySelector('#' + key + ' button');\n",
              "      quickchartButtonEl.disabled = true;  // To prevent multiple clicks.\n",
              "      quickchartButtonEl.classList.add('colab-df-spinner');\n",
              "      try {\n",
              "        const charts = await google.colab.kernel.invokeFunction(\n",
              "            'suggestCharts', [key], {});\n",
              "      } catch (error) {\n",
              "        console.error('Error during call to suggestCharts:', error);\n",
              "      }\n",
              "      quickchartButtonEl.classList.remove('colab-df-spinner');\n",
              "      quickchartButtonEl.classList.add('colab-df-quickchart-complete');\n",
              "    }\n",
              "    (() => {\n",
              "      let quickchartButtonEl =\n",
              "        document.querySelector('#df-91d483d9-c5c7-4025-9935-5fca2d63e80e button');\n",
              "      quickchartButtonEl.style.display =\n",
              "        google.colab.kernel.accessAllowed ? 'block' : 'none';\n",
              "    })();\n",
              "  </script>\n",
              "</div>\n",
              "\n",
              "    </div>\n",
              "  </div>\n"
            ],
            "application/vnd.google.colaboratory.intrinsic+json": {
              "type": "dataframe",
              "variable_name": "df"
            }
          },
          "metadata": {},
          "execution_count": 78
        }
      ],
      "source": [
        "df.head()"
      ]
    },
    {
      "cell_type": "code",
      "execution_count": 92,
      "metadata": {
        "id": "I5PEOyq7-xMk"
      },
      "outputs": [],
      "source": [
        "df.drop(['fare_amount'], axis = 1)\n",
        "x = df['distance'].values.reshape(-1,1)\n",
        "y = df['fare_amount'].values.reshape(-1,1)"
      ]
    },
    {
      "cell_type": "code",
      "source": [
        "# Visualize Features\n",
        "plt.scatter(x, y, alpha=0.7)\n",
        "plt.xlabel('Distance')\n",
        "plt.ylabel('Fares')\n",
        "plt.title('Scatter Plot of Fares vs Distance')\n",
        "plt.show()"
      ],
      "metadata": {
        "colab": {
          "base_uri": "https://localhost:8080/",
          "height": 472
        },
        "id": "NHfTuUQcs7ex",
        "outputId": "5d2d6355-df1a-45b2-e3e3-16fafbc145d1"
      },
      "execution_count": 96,
      "outputs": [
        {
          "output_type": "display_data",
          "data": {
            "text/plain": [
              "<Figure size 640x480 with 1 Axes>"
            ],
            "image/png": "[encoded data removed]"
          },
          "metadata": {}
        }
      ]
    },
    {
      "cell_type": "code",
      "execution_count": 97,
      "metadata": {
        "id": "Uv5J_COn-xMl"
      },
      "outputs": [],
      "source": [
        "from sklearn.preprocessing import StandardScaler\n",
        "\n",
        "std = StandardScaler()"
      ]
    },
    {
      "cell_type": "code",
      "execution_count": 98,
      "metadata": {
        "id": "TEBe2e79-xMl"
      },
      "outputs": [],
      "source": [
        "y_std = std.fit_transform(y)\n",
        "\n",
        "x_std = std.fit_transform(x)"
      ]
    },
    {
      "cell_type": "code",
      "execution_count": 99,
      "metadata": {
        "id": "ITa-Jvmo-xMl"
      },
      "outputs": [],
      "source": [
        "# Model Evaluation\n",
        "x_train, x_test, y_train, y_test = train_test_split(x_std, y_std, test_size=0.2, random_state=42)"
      ]
    },
    {
      "cell_type": "code",
      "execution_count": 100,
      "metadata": {
        "id": "fuvnPNXm-xMl"
      },
      "outputs": [],
      "source": [
        "# Create linear model and train\n",
        "from sklearn.linear_model import LinearRegression\n",
        "LR = LinearRegression()\n",
        "LR.fit(x_train,y_train)\n",
        "\n",
        "y_pred = LR.predict(x_test)"
      ]
    },
    {
      "cell_type": "code",
      "execution_count": 101,
      "metadata": {
        "id": "V1QLkfPN-xMl",
        "outputId": "db720bc9-b02b-4ce7-bc61-60dded641762",
        "colab": {
          "base_uri": "https://localhost:8080/"
        }
      },
      "outputs": [
        {
          "output_type": "stream",
          "name": "stdout",
          "text": [
            "Mean Squared Error: 0.9507063256260391\n",
            "Mean Absolute Error: 0.6042692390450444\n",
            "R-squared: 0.0003134343777940751\n",
            "0.9507063256260391   0.9750417045573174\n"
          ]
        }
      ],
      "source": [
        "# Calculate regression metrics\n",
        "mse = mean_squared_error(y_test, y_pred)\n",
        "mae = mean_absolute_error(y_test, y_pred)\n",
        "r2 = r2_score(y_test, y_pred)\n",
        "rmse = np.sqrt(mse)\n",
        "# Print regression metrics\n",
        "print(\"Mean Squared Error:\", mse)\n",
        "print(\"Mean Absolute Error:\", mae)\n",
        "print(\"R-squared:\", r2)\n",
        "print(mse, \" \", rmse)"
      ]
    }
  ],
  "metadata": {
    "kernelspec": {
      "display_name": "Python 3",
      "language": "python",
      "name": "python3"
    },
    "language_info": {
      "codemirror_mode": {
        "name": "ipython",
        "version": 3
      },
      "file_extension": ".py",
      "mimetype": "text/x-python",
      "name": "python",
      "nbconvert_exporter": "python",
      "pygments_lexer": "ipython3",
      "version": "3.11.1"
    },
    "colab": {
      "provenance": []
    }
  },
  "nbformat": 4,
  "nbformat_minor": 0
}