{
  "cells": [
    {
      "cell_type": "code",
      "execution_count": 1,
      "metadata": {
        "colab": {
          "base_uri": "https://localhost:8080/"
        },
        "id": "eUGlzE3o-xMh",
        "outputId": "201f173a-cc63-43ae-d6d7-cea66c7e781b"
      },
      "outputs": [],
      "source": [
        "# Install haversine if required\n",
        "#!pip install haversine\n",
        "\n",
        "# Import necessary libraries\n",
        "import pandas as pd\n",
        "import numpy as np\n",
        "from sklearn.preprocessing import LabelEncoder, StandardScaler\n",
        "import geopy.distance\n",
        "import haversine as hs\n",
        "from haversine import Unit\n",
        "import matplotlib.pyplot as plt\n",
        "from sklearn.model_selection import train_test_split\n",
        "from sklearn.linear_model import LinearRegression\n",
        "from sklearn.metrics import classification_report, accuracy_score, precision_score, recall_score, f1_score\n",
        "from sklearn.metrics import mean_squared_error, mean_absolute_error, r2_score\n",
        "import seaborn as sns\n"
      ]
    },
    {
      "cell_type": "code",
      "execution_count": 2,
      "metadata": {
        "id": "RjDDQm3E-xMi"
      },
      "outputs": [],
      "source": [
        "# Load dataset\n",
        "df = pd.read_csv('uber2.csv')\n"
      ]
    },
    {
      "cell_type": "code",
      "execution_count": 3,
      "metadata": {
        "id": "wREWUOEQ-xMj"
      },
      "outputs": [],
      "source": [
        "# Remove unnecessary columns\n",
        "df.drop(['key','Unnamed: 0'], axis=1, inplace=True)\n",
        "df.dropna(axis=0,inplace=True)"
      ]
    },
    {
      "cell_type": "code",
      "execution_count": 4,
      "metadata": {
        "colab": {
          "base_uri": "https://localhost:8080/"
        },
        "id": "rNobi5dn-xMj",
        "outputId": "caccff2d-8135-40b4-c98d-38445cf8f425"
      },
      "outputs": [
        {
          "name": "stdout",
          "output_type": "stream",
          "text": [
            "\n",
            "Missing values in the dataset:\n",
            "fare_amount          0\n",
            "pickup_datetime      0\n",
            "pickup_longitude     0\n",
            "pickup_latitude      0\n",
            "dropoff_longitude    0\n",
            "dropoff_latitude     0\n",
            "passenger_count      0\n",
            "dtype: int64\n"
          ]
        }
      ],
      "source": [
        "# Check for missing values\n",
        "print(\"\\nMissing values in the dataset:\")\n",
        "print(df.isnull().sum())\n"
      ]
    },
    {
      "cell_type": "code",
      "execution_count": 5,
      "metadata": {
        "id": "7zcPwSw_-xMj"
      },
      "outputs": [],
      "source": [
        "df.drop(df[df['fare_amount'].values <= 0].index  , inplace= True)\n"
      ]
    },
    {
      "cell_type": "code",
      "execution_count": 6,
      "metadata": {
        "colab": {
          "base_uri": "https://localhost:8080/"
        },
        "id": "sK_Ymggf-xMk",
        "outputId": "7f390d59-0c2f-4135-b7a6-e4cc3075a652"
      },
      "outputs": [
        {
          "name": "stdout",
          "output_type": "stream",
          "text": [
            "First few rows of the dataset:\n",
            "   fare_amount          pickup_datetime  pickup_longitude  pickup_latitude  \\\n",
            "0          7.5  2015-05-07 19:52:06 UTC        -73.999817        40.738354   \n",
            "1          7.7  2009-07-17 20:04:56 UTC        -73.994355        40.728225   \n",
            "2         12.9  2009-08-24 21:45:00 UTC        -74.005043        40.740770   \n",
            "3          5.3  2009-06-26 08:22:21 UTC        -73.976124        40.790844   \n",
            "4         16.0  2014-08-28 17:47:00 UTC        -73.925023        40.744085   \n",
            "\n",
            "   dropoff_longitude  dropoff_latitude  passenger_count  \n",
            "0         -73.999512         40.723217              1.0  \n",
            "1         -73.994710         40.750325              1.0  \n",
            "2         -73.962565         40.772647              1.0  \n",
            "3         -73.965316         40.803349              3.0  \n",
            "4         -73.973082         40.761247              5.0  \n",
            "\n",
            "\n",
            "Fields of the dataset:\n",
            "Index(['fare_amount', 'pickup_datetime', 'pickup_longitude', 'pickup_latitude',\n",
            "       'dropoff_longitude', 'dropoff_latitude', 'passenger_count'],\n",
            "      dtype='object')\n"
          ]
        }
      ],
      "source": [
        "# Display the first few rows of the dataset\n",
        "print(\"First few rows of the dataset:\")\n",
        "print(df.head())\n",
        "\n",
        "print('\\r\\n')\n",
        "\n",
        "# Display the columns of the dataset\n",
        "print(\"Fields of the dataset:\")\n",
        "print(df.columns)"
      ]
    },
    {
      "cell_type": "code",
      "execution_count": 7,
      "metadata": {
        "id": "sOr1-ypl-xMk"
      },
      "outputs": [],
      "source": [
        "# Convert 'pickup_datetime' to a datetime data type\n",
        "df['pickup_datetime'] = pd.to_datetime(df['pickup_datetime'])\n",
        "\n",
        "# Extract the date, time, and other components\n",
        "df['Hour'] = df['pickup_datetime'].dt.hour\n"
      ]
    },
    {
      "cell_type": "code",
      "execution_count": 8,
      "metadata": {
        "id": "wEUJ7C6l-xMk"
      },
      "outputs": [],
      "source": [
        "df.drop('pickup_datetime', axis=1, inplace=True)\n",
        "\n"
      ]
    },
    {
      "cell_type": "code",
      "execution_count": 9,
      "metadata": {
        "id": "DnR8HM3y-xMk"
      },
      "outputs": [],
      "source": [
        "#Drop the rows where the latitude and longitude are not in range\n",
        "condition = df[\n",
        "    (df['pickup_longitude'] < -180) | (df['pickup_longitude'] > 180) |\n",
        "    (df['pickup_latitude'] < -90) | (df['pickup_latitude'] > 90) |\n",
        "    (df['dropoff_longitude'] < -180) | (df['dropoff_longitude'] > 180) |\n",
        "    (df['dropoff_latitude'] < -90) | (df['dropoff_latitude'] > 90)\n",
        "].index\n",
        "df.drop(condition, inplace=True)"
      ]
    },
    {
      "cell_type": "code",
      "execution_count": 10,
      "metadata": {
        "id": "cDeAjidznsAh"
      },
      "outputs": [],
      "source": [
        "#Drop the rows where the fare amount is <=0\n",
        "condition = df[(df.fare_amount<=0.00)].index\n",
        "df.drop(condition, inplace=True)"
      ]
    },
    {
      "cell_type": "code",
      "execution_count": 11,
      "metadata": {
        "id": "JXCdcBdQoXfU"
      },
      "outputs": [],
      "source": [
        "#Calculate the distance between pickup and dropoff\n",
        "longitude, latitude = [], []\n",
        "\n",
        "longitude.append(df[\"pickup_longitude\"].tolist())\n",
        "longitude.append(df[\"dropoff_longitude\"].tolist())\n",
        "latitude.append(df[\"pickup_latitude\"].tolist())\n",
        "latitude.append(df[\"dropoff_latitude\"].tolist())\n",
        "\n",
        "#Find the distance in meters\n",
        "distance = [hs.haversine((latitude[1][i], longitude[1][i]), (latitude[0][i], longitude[0][i]), unit=Unit.METERS)\n",
        "              for i in range(len(longitude[0]))]\n",
        "\n",
        "#Append the new distance column to the dataset\n",
        "df['distance'] = distance"
      ]
    },
    {
      "cell_type": "code",
      "execution_count": 12,
      "metadata": {
        "colab": {
          "base_uri": "https://localhost:8080/",
          "height": 206
        },
        "id": "Z-xI68xV-xMk",
        "outputId": "09e056c0-bdb4-40b3-b718-b06eb010299d"
      },
      "outputs": [
        {
          "data": {
            "text/html": [
              "<div>\n",
              "<style scoped>\n",
              "    .dataframe tbody tr th:only-of-type {\n",
              "        vertical-align: middle;\n",
              "    }\n",
              "\n",
              "    .dataframe tbody tr th {\n",
              "        vertical-align: top;\n",
              "    }\n",
              "\n",
              "    .dataframe thead th {\n",
              "        text-align: right;\n",
              "    }\n",
              "</style>\n",
              "<table border=\"1\" class=\"dataframe\">\n",
              "  <thead>\n",
              "    <tr style=\"text-align: right;\">\n",
              "      <th></th>\n",
              "      <th>fare_amount</th>\n",
              "      <th>passenger_count</th>\n",
              "      <th>Hour</th>\n",
              "      <th>distance</th>\n",
              "    </tr>\n",
              "  </thead>\n",
              "  <tbody>\n",
              "    <tr>\n",
              "      <th>0</th>\n",
              "      <td>7.5</td>\n",
              "      <td>1.0</td>\n",
              "      <td>19</td>\n",
              "      <td>1683.325209</td>\n",
              "    </tr>\n",
              "    <tr>\n",
              "      <th>1</th>\n",
              "      <td>7.7</td>\n",
              "      <td>1.0</td>\n",
              "      <td>20</td>\n",
              "      <td>2457.593278</td>\n",
              "    </tr>\n",
              "    <tr>\n",
              "      <th>2</th>\n",
              "      <td>12.9</td>\n",
              "      <td>1.0</td>\n",
              "      <td>21</td>\n",
              "      <td>5036.384147</td>\n",
              "    </tr>\n",
              "    <tr>\n",
              "      <th>3</th>\n",
              "      <td>5.3</td>\n",
              "      <td>3.0</td>\n",
              "      <td>8</td>\n",
              "      <td>1661.685754</td>\n",
              "    </tr>\n",
              "    <tr>\n",
              "      <th>4</th>\n",
              "      <td>16.0</td>\n",
              "      <td>5.0</td>\n",
              "      <td>17</td>\n",
              "      <td>4475.456145</td>\n",
              "    </tr>\n",
              "  </tbody>\n",
              "</table>\n",
              "</div>"
            ],
            "text/plain": [
              "   fare_amount  passenger_count  Hour     distance\n",
              "0          7.5              1.0    19  1683.325209\n",
              "1          7.7              1.0    20  2457.593278\n",
              "2         12.9              1.0    21  5036.384147\n",
              "3          5.3              3.0     8  1661.685754\n",
              "4         16.0              5.0    17  4475.456145"
            ]
          },
          "execution_count": 12,
          "metadata": {},
          "output_type": "execute_result"
        }
      ],
      "source": [
        "\n",
        "df.drop(['pickup_longitude', 'pickup_latitude','dropoff_longitude', 'dropoff_latitude'] , inplace=True , axis= 1)\n",
        "df.head()"
      ]
    },
    {
      "cell_type": "code",
      "execution_count": 13,
      "metadata": {},
      "outputs": [
        {
          "data": {
            "image/png": "[encoded data removed]",
            "text/plain": [
              "<Figure size 1200x600 with 2 Axes>"
            ]
          },
          "metadata": {},
          "output_type": "display_data"
        }
      ],
      "source": [
        "fig, ax1=plt.subplots(figsize=(12,6))\n",
        "sns.color_palette(\"pastel\")\n",
        "sns.countplot(data=df,x='Hour', color='skyblue', ax=ax1)\n",
        "ax2 = ax1.twinx()\n",
        "sns.lineplot(data=df,x='Hour', y='fare_amount', errorbar=None, color='blue', marker='o', ax=ax2)\n",
        "plt.show()"
      ]
    },
    {
      "cell_type": "code",
      "execution_count": 14,
      "metadata": {
        "id": "I5PEOyq7-xMk"
      },
      "outputs": [],
      "source": [
        "x = df.drop(['fare_amount'], axis = 1)\n",
        "y = df['fare_amount'].values.reshape(-1, 1)"
      ]
    },
    {
      "cell_type": "code",
      "execution_count": 15,
      "metadata": {
        "id": "Uv5J_COn-xMl"
      },
      "outputs": [],
      "source": [
        "from sklearn.preprocessing import StandardScaler\n",
        "\n",
        "std = StandardScaler()"
      ]
    },
    {
      "cell_type": "code",
      "execution_count": 16,
      "metadata": {
        "id": "TEBe2e79-xMl"
      },
      "outputs": [],
      "source": [
        "y_std = std.fit_transform(y)\n",
        "\n",
        "x_std = std.fit_transform(x)"
      ]
    },
    {
      "cell_type": "code",
      "execution_count": 17,
      "metadata": {
        "id": "ITa-Jvmo-xMl"
      },
      "outputs": [],
      "source": [
        "# Model Evaluation\n",
        "x_train, x_test, y_train, y_test = train_test_split(x_std, y_std, test_size=0.2, random_state=42)"
      ]
    },
    {
      "cell_type": "code",
      "execution_count": 18,
      "metadata": {
        "id": "fuvnPNXm-xMl"
      },
      "outputs": [],
      "source": [
        "# Create linear model and train\n",
        "from sklearn.linear_model import LinearRegression\n",
        "LR = LinearRegression()\n",
        "LR.fit(x_train,y_train)\n",
        "\n",
        "y_pred = LR.predict(x_test)"
      ]
    },
    {
      "cell_type": "code",
      "execution_count": 19,
      "metadata": {
        "colab": {
          "base_uri": "https://localhost:8080/"
        },
        "id": "V1QLkfPN-xMl",
        "outputId": "db720bc9-b02b-4ce7-bc61-60dded641762"
      },
      "outputs": [
        {
          "name": "stdout",
          "output_type": "stream",
          "text": [
            "Mean Squared Error: 0.9724414028411495\n",
            "Mean Absolute Error: 0.6069948367997517\n",
            "R-squared: 0.0011725003866140948\n"
          ]
        }
      ],
      "source": [
        "\n",
        "# Calculate regression metrics\n",
        "mse = mean_squared_error(y_test, y_pred)\n",
        "mae = mean_absolute_error(y_test, y_pred)\n",
        "r2 = r2_score(y_test, y_pred)\n",
        "\n",
        "\n",
        "print(\"Mean Squared Error:\", mse)\n",
        "print(\"Mean Absolute Error:\", mae)\n",
        "print(\"R-squared:\", r2)\n",
        "\n"
      ]
    }
  ],
  "metadata": {
    "colab": {
      "provenance": []
    },
    "kernelspec": {
      "display_name": "Python 3",
      "language": "python",
      "name": "python3"
    },
    "language_info": {
      "codemirror_mode": {
        "name": "ipython",
        "version": 3
      },
      "file_extension": ".py",
      "mimetype": "text/x-python",
      "name": "python",
      "nbconvert_exporter": "python",
      "pygments_lexer": "ipython3",
      "version": "3.11.1"
    }
  },
  "nbformat": 4,
  "nbformat_minor": 0
}
